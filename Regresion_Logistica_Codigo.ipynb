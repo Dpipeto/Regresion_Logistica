{
  "nbformat": 4,
  "nbformat_minor": 0,
  "metadata": {
    "colab": {
      "provenance": [],
      "authorship_tag": "ABX9TyPTY4S0+XjBRUEv0JFXyhs7",
      "include_colab_link": true
    },
    "kernelspec": {
      "name": "python3",
      "display_name": "Python 3"
    },
    "language_info": {
      "name": "python"
    }
  },
  "cells": [
    {
      "cell_type": "markdown",
      "metadata": {
        "id": "view-in-github",
        "colab_type": "text"
      },
      "source": [
        "<a href=\"https://colab.research.google.com/github/Dpipeto/Regresion_Logistica/blob/main/Regresion_Logistica_Codigo.ipynb\" target=\"_parent\"><img src=\"https://colab.research.google.com/assets/colab-badge.svg\" alt=\"Open In Colab\"/></a>"
      ]
    },
    {
      "cell_type": "code",
      "execution_count": 45,
      "metadata": {
        "id": "AvD6THGloE0q",
        "colab": {
          "base_uri": "https://localhost:8080/",
          "height": 1000
        },
        "outputId": "5982aff3-48ad-4864-e6b1-1a0d81c9c00e"
      },
      "outputs": [
        {
          "output_type": "stream",
          "name": "stdout",
          "text": [
            "   EmployeeID  Age  YearsAtCompany  PerformanceScore        Salary\n",
            "0        2620   27               6          3.406346  139071.90680\n",
            "1        9240   54              30          1.480111   64523.56010\n",
            "2        7153   38              23          3.537315   62316.74147\n",
            "3        9178   38              36          4.571588  104125.41890\n",
            "4        9452   33               3          4.043143  123153.69970\n",
            "<class 'pandas.core.frame.DataFrame'>\n",
            "RangeIndex: 2000 entries, 0 to 1999\n",
            "Data columns (total 5 columns):\n",
            " #   Column            Non-Null Count  Dtype  \n",
            "---  ------            --------------  -----  \n",
            " 0   EmployeeID        2000 non-null   int64  \n",
            " 1   Age               2000 non-null   int64  \n",
            " 2   YearsAtCompany    2000 non-null   int64  \n",
            " 3   PerformanceScore  2000 non-null   float64\n",
            " 4   Salary            2000 non-null   float64\n",
            "dtypes: float64(2), int64(3)\n",
            "memory usage: 78.2 KB\n",
            "None\n",
            "        EmployeeID          Age  YearsAtCompany  PerformanceScore  \\\n",
            "count  2000.000000  2000.000000     2000.000000       2000.000000   \n",
            "mean   5478.758500    38.494500       20.154500          3.011965   \n",
            "std    2629.330596    12.179373       11.073705          1.177174   \n",
            "min    1000.000000    18.000000        1.000000          1.002096   \n",
            "25%    3156.500000    28.000000       11.000000          1.992998   \n",
            "50%    5500.000000    39.000000       20.000000          3.009944   \n",
            "75%    7796.500000    49.000000       30.000000          4.058405   \n",
            "max    9989.000000    59.000000       39.000000          4.996746   \n",
            "\n",
            "              Salary  \n",
            "count    2000.000000  \n",
            "mean    90439.141489  \n",
            "std     34642.862019  \n",
            "min     30011.192160  \n",
            "25%     60408.611580  \n",
            "50%     90372.567650  \n",
            "75%    120971.246550  \n",
            "max    149851.627900  \n"
          ]
        },
        {
          "output_type": "display_data",
          "data": {
            "text/plain": [
              "<Figure size 800x600 with 1 Axes>"
            ],
            "image/png": "[encoded data removed]"
          },
          "metadata": {}
        },
        {
          "output_type": "stream",
          "name": "stdout",
          "text": [
            "              precision    recall  f1-score   support\n",
            "\n",
            "           0       1.00      1.00      1.00        64\n",
            "           1       1.00      1.00      1.00        63\n",
            "           2       1.00      1.00      1.00        62\n",
            "           3       1.00      1.00      1.00        66\n",
            "           4       1.00      1.00      1.00        85\n",
            "           5       1.00      1.00      1.00        60\n",
            "\n",
            "    accuracy                           1.00       400\n",
            "   macro avg       1.00      1.00      1.00       400\n",
            "weighted avg       1.00      1.00      1.00       400\n",
            "\n",
            "Exactitud del modelo: 100.00%\n"
          ]
        }
      ],
      "source": [
        "import numpy as np\n",
        "import pandas as pd\n",
        "import matplotlib.pyplot as plt\n",
        "import seaborn as sns\n",
        "from sklearn.model_selection import train_test_split\n",
        "from sklearn.preprocessing import StandardScaler\n",
        "from sklearn.linear_model import LogisticRegression\n",
        "from sklearn.metrics import confusion_matrix, accuracy_score, classification_report\n",
        "\n",
        "data = pd.read_csv('employee_performance(in).csv')\n",
        "\n",
        "print(data.head())\n",
        "print(data.info())\n",
        "print(data.describe())\n",
        "\n",
        "data['PerformanceScore'] =  pd.qcut(data['PerformanceScore'], q=6, labels=[0, 1, 2, 3, 4, 5])\n",
        "\n",
        "x = data[['Age','YearsAtCompany','PerformanceScore','Salary']]\n",
        "y = data['PerformanceScore']\n",
        "\n",
        "x_train, x_test, y_train, y_test = train_test_split(x, y, test_size=0.2, random_state=42)\n",
        "\n",
        "scaler = StandardScaler()\n",
        "x_train_scaled = scaler.fit_transform(x_train)\n",
        "x_test_scaled = scaler.transform(x_test)\n",
        "\n",
        "logistic_model = LogisticRegression()\n",
        "\n",
        "logistic_model.fit(x_train_scaled, y_train)\n",
        "\n",
        "y_pred = logistic_model.predict(x_test_scaled)\n",
        "\n",
        "conf_matrix = confusion_matrix(y_test, y_pred)\n",
        "\n",
        "plt.figure(figsize=(8,6))\n",
        "sns.heatmap(conf_matrix, annot=True, fmt='d', cmap ='Blues', cbar=False)\n",
        "plt.xlabel('Predicted')\n",
        "plt.ylabel('Actual')\n",
        "plt.title('Confusion Matrix')\n",
        "plt.show()\n",
        "\n",
        "print(classification_report(y_test, y_pred))\n",
        "\n",
        "accuracy = accuracy_score(y_test, y_pred)\n",
        "print(f'Exactitud del modelo: {accuracy * 100:.2f}%')"
      ]
    }
  ]
}